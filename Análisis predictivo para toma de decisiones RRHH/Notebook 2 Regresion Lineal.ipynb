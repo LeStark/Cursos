{
 "cells": [
  {
   "cell_type": "markdown",
   "id": "19827b1e",
   "metadata": {},
   "source": [
    "## ***DIPLOMADO EN CIENCIA DE DATOS APLICADOS AL DESARROLLO INTEGRAL DEL TALENTO HUMANOX***  \n",
    "\n",
    "### ***M4: Análisis Predictivo para la Toma de Decisiones Estratégicas en RRHH***  \n",
    "\n",
    "### ***<span style=\"color:#FF0000\">Universidad del Rosario</span>***\n",
    "\n",
    "---"
   ]
  },
  {
   "cell_type": "markdown",
   "id": "ad6f6293",
   "metadata": {},
   "source": [
    "# 📘 Notebook 2 – Predicción de Competencias Blandas en RRHH\n",
    "\n",
    "En este notebook trabajaremos con un dataset de Recursos Humanos adaptado con variables que representan atributos de los colaboradores en una organización.  \n",
    "\n",
    "El objetivo ahora será aplicar técnicas de **regresión lineal** para predecir el nivel de **competencias blandas** a partir de otras características de los empleados.\n",
    "\n",
    "## 📂 Estructura del Dataset\n",
    "\n",
    "El dataset contiene información de colaboradores descrita con las siguientes variables:\n",
    "\n",
    "- **Años de experiencia**: tiempo acumulado en el mercado laboral.  \n",
    "- **Formación continua**: nivel de educación y capacitación permanente.  \n",
    "- **Competencias técnicas**: habilidades asociadas al desempeño profesional específico.  \n",
    "- **Competencias blandas**: habilidades sociales, comunicativas y de liderazgo (variable a predecir).  \n",
    "- **Perfil de talento**: clasificación del empleado (ej. *Innovador, Ejecutor, Tradicionalista*).  \n",
    "\n",
    "## 🎯 Objetivos del Notebook\n",
    "- Construir un modelo de **regresión lineal** para predecir las competencias blandas.  \n",
    "- Evaluar el desempeño del modelo con métricas de regresión (MAE, RMSE, R²).  \n",
    "- Visualizar la relación entre valores reales y valores predichos.  \n",
    "- Reflexionar sobre el potencial y limitaciones de aplicar modelos de regresión en datos de Recursos Humanos.  \n",
    "\n",
    "## 🛠️ Herramientas a utilizar\n",
    "- **pandas** y **numpy**: manipulación de datos.  \n",
    "- **matplotlib** y **seaborn**: visualización de resultados.  \n",
    "- **scikit-learn**: construcción y evaluación del modelo de regresión lineal.  \n",
    "\n",
    "➡️ Al finalizar este notebook, tendrás un **modelo predictivo capaz de estimar el nivel de competencias blandas** de un colaborador en función de sus características de experiencia, formación y competencias técnicas."
   ]
  },
  {
   "cell_type": "code",
   "execution_count": null,
   "id": "1d1cb542",
   "metadata": {},
   "outputs": [],
   "source": [
    "# Instalación de librerías necesarias\n",
    "# \n",
    "# En esta celda instalamos las principales librerías que usaremos a lo largo del notebook:\n",
    "# - pandas: para manipulación y análisis de datos.\n",
    "# - numpy: para operaciones numéricas y manejo de arreglos.\n",
    "# - matplotlib: para visualizaciones básicas.\n",
    "# - seaborn: para visualizaciones estadísticas más estilizadas.\n",
    "# - scikit-learn: para construir y evaluar modelos de machine learning.\n",
    "#\n",
    "# Esta celda solo necesita ejecutarse una vez (o cuando el entorno no tenga estas librerías instaladas).\n",
    "\n",
    "!pip install pandas numpy matplotlib seaborn scikit-learn"
   ]
  },
  {
   "cell_type": "code",
   "execution_count": null,
   "id": "efbd8b9a",
   "metadata": {},
   "outputs": [],
   "source": [
    "# Librerías necesarias\n",
    "\n",
    "# 🔹 Manipulación y análisis de datos\n",
    "import pandas as pd\n",
    "import numpy as np\n",
    "\n",
    "# 🔹 Visualización\n",
    "import matplotlib.pyplot as plt\n",
    "import seaborn as sns\n",
    "\n",
    "# 🔹 Preprocesamiento y modelado\n",
    "from sklearn.model_selection import train_test_split   # División en train y test\n",
    "from sklearn.linear_model import LinearRegression      # Modelo de regresión lineal\n",
    "\n",
    "# 🔹 Evaluación del modelo\n",
    "from sklearn.metrics import mean_absolute_error, mean_squared_error, r2_score\n",
    "from sklearn.preprocessing import LabelEncoder, StandardScaler\n"
   ]
  },
  {
   "cell_type": "code",
   "execution_count": null,
   "id": "6ecaf7d1",
   "metadata": {},
   "outputs": [],
   "source": [
    "# 📥 Cargar dataset\n",
    "url = \"https://raw.githubusercontent.com/LeStark/Cursos/refs/heads/main/Data/iris_human_resources.csv\"\n",
    "df = pd.read_csv(url, sep=\",\")\n",
    "df.info()  # Información del dataset\n",
    "df.head()  # Mostrar las primeras filas del dataset\n"
   ]
  },
  {
   "cell_type": "code",
   "execution_count": null,
   "id": "a5e2338b",
   "metadata": {},
   "outputs": [],
   "source": [
    "# Versión PairGrid\n",
    "\n",
    "g = sns.PairGrid(df, hue=\"Perfil de talento\")\n",
    "g.map_diag(sns.histplot, kde=False)  # Histogramas en la diagonal\n",
    "g.map_offdiag(sns.scatterplot, alpha=0.7)  # Scatter plots fuera de la diagonal\n",
    "g.add_legend()  # Agregar leyenda\n",
    "\n",
    "plt.show()"
   ]
  },
  {
   "cell_type": "markdown",
   "id": "033eb203",
   "metadata": {},
   "source": [
    "##  Análisis del Pairplot: ¿Tiene sentido aplicar Regresión Lineal para predecir Competencias Blandas?\n",
    "\n",
    "Al observar el *pairplot* que relaciona las diferentes variables del dataset de RRHH, podemos destacar lo siguiente:\n",
    "\n",
    "### 1. Años de experiencia vs. Competencias blandas\n",
    "Existe una relación positiva, aunque no perfectamente lineal. \n",
    "Se observa que los colaboradores clasificados como **Tradicionalistas** tienden a concentrarse en valores más altos tanto de experiencia como de competencias blandas.\n",
    "\n",
    "### 2. Formación continua vs. Competencias blandas\n",
    "La relación es más dispersa, pero se aprecia una ligera tendencia creciente. \n",
    "Esto sugiere que la formación continua podría aportar cierta capacidad predictiva, aunque no tan fuerte como otras variables.\n",
    "\n",
    "### 3. Competencias técnicas vs. Competencias blandas\n",
    "Aquí encontramos la relación más clara: **una correlación positiva fuerte y casi lineal**.\n",
    "Los empleados con mayor nivel de competencias técnicas suelen presentar también mayores competencias blandas.\n",
    "\n",
    "###  Implicaciones para aplicar Regresión Lineal\n",
    "- La **fuerte relación lineal entre competencias técnicas y competencias blandas** respalda la pertinencia de usar un modelo de regresión lineal.  \n",
    "- Incluir **años de experiencia** y **formación continua** como predictores adicionales puede aportar información complementaria, aunque su relación con la variable objetivo sea menos evidente.  \n",
    "- La regresión lineal es un buen punto de partida: sencilla de interpretar, rápida de entrenar y útil como modelo de referencia (*baseline*).  \n",
    "\n",
    "### Consideraciones\n",
    "- La relación no es perfectamente lineal en todas las variables, por lo que habrá cierto nivel de error.  \n",
    "- Es posible que modelos más complejos (ej. Random Forest, SVR) capturen mejor las relaciones no lineales.  \n"
   ]
  },
  {
   "cell_type": "markdown",
   "id": "8845c0b9",
   "metadata": {},
   "source": [
    "## Preparación de los datos para el modelado\n",
    "\n",
    "Antes de construir un modelo predictivo es necesario preparar adecuadamente los datos.  \n",
    "En esta etapa realizamos los siguientes pasos:\n",
    "\n",
    "1. **Separación de variables (features y target)**  \n",
    "   - **X**: incluye todas las características independientes (*años de experiencia, formación continua, competencias técnicas*).  \n",
    "   - **y**: corresponde a la variable objetivo que deseamos predecir: *competencias blandas*.  \n",
    "   - La columna *Perfil de talento* se excluye porque en este escenario no será usada como predictor.  \n",
    "\n",
    "2. **Normalización / Estandarización de las features**  \n",
    "   - Usamos `StandardScaler` para transformar todas las variables predictoras a la misma escala.  \n",
    "   - Cada variable queda con **media = 0** y **desviación estándar = 1**.  \n",
    "   - Esto evita que una variable con valores más grandes (por ejemplo, *años de experiencia*) domine sobre otras.  "
   ]
  },
  {
   "cell_type": "code",
   "execution_count": null,
   "id": "439c7285",
   "metadata": {},
   "outputs": [],
   "source": [
    "# Preparación de los datos para modelado\n",
    "\n",
    "# 1. Separar features (X) y target (y)\n",
    "X = df.drop([\"Competencias blandas\",\"Perfil de talento\"], axis=1)   # Variables independientes\n",
    "y = df[\"Competencias blandas\"]               # Variable objetivo\n",
    "\n",
    "\n",
    "# 3. Normalización/Estandarización de las features\n",
    "scaler = StandardScaler()\n",
    "X_scaled = scaler.fit_transform(X)\n",
    "\n",
    "# 4. Verificación de la transformación\n",
    "print(\"\\nPrimeras 5 filas de las variables normalizadas:\")\n",
    "print(X_scaled[:5])"
   ]
  },
  {
   "cell_type": "markdown",
   "id": "790456a7",
   "metadata": {},
   "source": [
    "## División del dataset\n",
    "\n",
    "Separamos los datos en **entrenamiento (75%)** y **prueba (25%)** usando `train_test_split`.  \n",
    "- El conjunto de entrenamiento sirve para que el modelo aprenda.  \n",
    "- El conjunto de prueba se reserva para evaluar su desempeño en datos no vistos.  \n",
    "- Con `random_state=42` garantizamos que la partición sea reproducible.\n"
   ]
  },
  {
   "cell_type": "code",
   "execution_count": null,
   "id": "1e23daa4",
   "metadata": {},
   "outputs": [],
   "source": [
    "X_train, X_test, y_train, y_test = train_test_split(\n",
    "    X, y, test_size=0.25, random_state=42\n",
    ")"
   ]
  },
  {
   "cell_type": "markdown",
   "id": "eefcb594",
   "metadata": {},
   "source": [
    "## Construcción del modelo de Regresión Lineal\n",
    "\n",
    "Creamos una instancia del modelo `LinearRegression()` de *scikit-learn* y lo entrenamos con los datos de entrenamiento (`X_train`, `y_train`).  \n",
    "\n",
    "En esta etapa, el modelo aprende la relación entre las variables predictoras (años de experiencia, formación continua, competencias técnicas, etc.) y la variable objetivo (*competencias blandas*).  \n"
   ]
  },
  {
   "cell_type": "code",
   "execution_count": null,
   "id": "22d3e07c",
   "metadata": {},
   "outputs": [],
   "source": [
    "# Construir modelo de regresión lineal\n",
    "lin_reg = LinearRegression()\n",
    "lin_reg.fit(X_train, y_train)"
   ]
  },
  {
   "cell_type": "markdown",
   "id": "99c3beb4",
   "metadata": {},
   "source": [
    "## Predicciones\n",
    "\n",
    "Usamos el modelo entrenado para generar predicciones sobre el conjunto de prueba (`X_test`).  \n",
    "De esta forma obtenemos `y_pred`, que contiene los valores estimados de *competencias blandas* para los colaboradores que el modelo no había visto antes.  \n"
   ]
  },
  {
   "cell_type": "code",
   "execution_count": null,
   "id": "7dddad9f",
   "metadata": {},
   "outputs": [],
   "source": [
    "#  Predicciones\n",
    "y_pred = lin_reg.predict(X_test)"
   ]
  },
  {
   "cell_type": "markdown",
   "id": "867fd2c6",
   "metadata": {},
   "source": [
    "## Coeficientes (betas) del modelo\n",
    "\n",
    "En un modelo de **Regresión Lineal**, cada variable predictora tiene asociado un coeficiente β (beta) que indica su influencia sobre la variable objetivo (*competencias blandas*).  \n",
    "\n",
    "- **Intercepto (β₀):** valor estimado de *competencias blandas* cuando todas las variables predictoras son cero.  \n",
    "- **Coeficientes (β₁, β₂, …):** representan cuánto cambia el valor esperado de *competencias blandas* por cada unidad de aumento en la variable correspondiente, manteniendo las demás constantes.  \n",
    "\n",
    "Al organizar los resultados en un DataFrame podemos identificar:  \n",
    "- Qué variables tienen mayor impacto en la predicción.  \n",
    "- Si su efecto es **positivo** (incrementan las competencias blandas) o **negativo** (las reducen).  \n",
    "\n",
    "Esto nos permite interpretar el modelo más allá de su precisión, entendiendo cómo cada característica de los colaboradores contribuye a explicar su nivel de competencias blandas.\n"
   ]
  },
  {
   "cell_type": "code",
   "execution_count": null,
   "id": "2f93c4a6",
   "metadata": {},
   "outputs": [],
   "source": [
    "# 📊 Obtener coeficientes (betas) del modelo\n",
    "betas = pd.DataFrame({\n",
    "    \"Variable\": X_train.columns,\n",
    "    \"Beta (coeficiente)\": lin_reg.coef_\n",
    "})\n",
    "\n",
    "print(\"Intercepto (β₀):\", lin_reg.intercept_)\n",
    "print(\"\\nBetas (coeficientes):\")\n",
    "print(betas)\n"
   ]
  },
  {
   "cell_type": "markdown",
   "id": "4bf2deb5",
   "metadata": {},
   "source": [
    "## 📏 Evaluación del modelo de regresión\n",
    "\n",
    "Una vez obtenidas las predicciones, debemos medir qué tan bien se ajusta nuestro modelo a los datos reales.  \n",
    "Para ello utilizamos varias métricas de error y desempeño:\n",
    "\n",
    "- **MAE (Mean Absolute Error – Error Absoluto Medio):**  \n",
    "  Promedio de las diferencias absolutas entre los valores reales y los predichos.  \n",
    "  Indica, en promedio, cuánto se equivoca el modelo en las unidades originales de la variable objetivo.  \n",
    "  Cuanto más bajo, mejor.\n",
    "\n",
    "- **MSE (Mean Squared Error – Error Cuadrático Medio):**  \n",
    "  Promedio de los errores elevados al cuadrado.  \n",
    "  Penaliza con más fuerza los errores grandes, por lo que es sensible a valores atípicos.  \n",
    "  Un valor bajo indica mejor ajuste.\n",
    "\n",
    "- **RMSE (Root Mean Squared Error – Raíz del Error Cuadrático Medio):**  \n",
    "  Es la raíz cuadrada del MSE, lo que devuelve el error en las mismas unidades que la variable objetivo.  \n",
    "  Es más interpretable que el MSE y también penaliza errores grandes.\n",
    "\n",
    "- **R² (Coeficiente de determinación):**  \n",
    "  Mide qué proporción de la variabilidad de los datos es explicada por el modelo.  \n",
    "  Toma valores entre 0 y 1:  \n",
    "  - **1** significa que el modelo explica el 100% de la variabilidad.  \n",
    "  - **0** significa que el modelo no explica nada (equivalente a predecir siempre la media).  \n",
    "  Valores cercanos a 1 indican un modelo con buen poder predictivo.\n",
    " \n"
   ]
  },
  {
   "cell_type": "code",
   "execution_count": null,
   "id": "e59601c8",
   "metadata": {},
   "outputs": [],
   "source": [
    "# Evaluación del modelo\n",
    "print(\"MAE:\", mean_absolute_error(y_test, y_pred))\n",
    "print(\"MSE:\", mean_squared_error(y_test, y_pred))\n",
    "print(\"RMSE:\", np.sqrt(mean_squared_error(y_test, y_pred)))\n",
    "print(\"R²:\", r2_score(y_test, y_pred))"
   ]
  },
  {
   "cell_type": "markdown",
   "id": "219e1f03",
   "metadata": {},
   "source": [
    "## Segunda versión del modelo: incluyendo *Perfil de talento*\n",
    "\n",
    "En la primera versión del modelo usamos únicamente variables numéricas (*años de experiencia, formación continua y competencias técnicas*) para predecir el nivel de *competencias blandas*.  \n",
    "\n",
    "Ahora repetiremos el proceso de modelado, pero esta vez **incluiremos la variable categórica *Perfil de talento*** como predictor.  \n",
    "\n",
    "Para poder usarla en el modelo, fue transformada mediante **One-Hot Encoding**, lo que generó nuevas columnas binarias (0/1) que representan cada perfil (*Ejecutor* y *Tradicionalista*, dejando a *Innovador* como categoría de referencia).  \n",
    "\n",
    "El objetivo es evaluar si al añadir esta información el modelo logra un **mejor ajuste** y explica una mayor parte de la variabilidad de *competencias blandas*.\n"
   ]
  },
  {
   "cell_type": "markdown",
   "id": "0dee8934",
   "metadata": {},
   "source": [
    "## Transformación de la variable categórica *Perfil de talento*\n",
    "\n",
    "Para poder incluir la variable **Perfil de talento** en un modelo de regresión, debemos convertirla en un formato numérico.  \n",
    "Si la codificáramos como números simples (0, 1, 2), el modelo interpretaría una relación ordinal inexistente entre los perfiles, lo que introduciría sesgos.  \n",
    "\n",
    "La solución es aplicar **One-Hot Encoding**, que crea columnas binarias (0/1) para cada categoría.  \n",
    "En nuestro caso, al aplicar `drop=\"first\"`, se eliminó una categoría de referencia para evitar la **multicolinealidad** (problema conocido como *dummy variable trap*).  \n",
    "\n",
    "### Pasos realizados en la celda:\n",
    "1. **Definición del encoder:**  \n",
    "   Se inicializa `OneHotEncoder` con `drop=\"first\"` y `sparse_output=False` para obtener un DataFrame denso y legible.  \n",
    "\n",
    "2. **Transformación:**  \n",
    "   Se aplica el encoder sobre la columna *Perfil de talento*, generando un arreglo con variables dummy.  \n",
    "\n",
    "3. **Creación del DataFrame codificado:**  \n",
    "   Se construye un DataFrame (`perfil_encoded_df`) con nombres de columnas claros como:  \n",
    "   - `Perfil de talento_Ejecutor`  \n",
    "   - `Perfil de talento_Tradicionalista`  \n",
    "\n",
    "4. **Concatenación:**  \n",
    "   Se combinan las variables numéricas originales con las columnas dummy, resultando en `df_encoded`.  \n",
    "\n"
   ]
  },
  {
   "cell_type": "code",
   "execution_count": null,
   "id": "121c99be",
   "metadata": {},
   "outputs": [],
   "source": [
    "from sklearn.preprocessing import OneHotEncoder\n",
    "\n",
    "\n",
    "#  One-Hot Encoding para la variable categórica \"Perfil de talento\"\n",
    "encoder = OneHotEncoder(drop=\"first\",sparse_output=False)  \n",
    "\n",
    "# Transformar la columna y convertir a DataFrame\n",
    "perfil_encoded = encoder.fit_transform(df[[\"Perfil de talento\"]])\n",
    "\n",
    "# Crear DataFrame con las variables dummy\n",
    "perfil_encoded_df = pd.DataFrame(\n",
    "    perfil_encoded,\n",
    "    columns=encoder.get_feature_names_out([\"Perfil de talento\"]),\n",
    "    index=df.index   # mantener alineación con el DataFrame original\n",
    ")\n",
    "\n",
    "# Concatenar con el DataFrame original\n",
    "df_encoded = pd.concat([df.drop(\"Perfil de talento\", axis=1), perfil_encoded_df], axis=1)\n",
    "df_encoded.info()  # Información del DataFrame transformado\n",
    "df_encoded.head()  # Mostrar las primeras filas del DataFrame transformado"
   ]
  },
  {
   "cell_type": "markdown",
   "id": "7572e5bc",
   "metadata": {},
   "source": [
    "## Definición de variables y división del dataset\n",
    "\n",
    "En esta etapa preparamos los datos para el modelado:\n",
    "\n",
    "1. **Definir variables predictoras (X) y objetivo (y):**  \n",
    "   - **X** → contiene todas las características numéricas, incluidas las dummies generadas con *One-Hot Encoding*.  \n",
    "   - **y** → corresponde a la variable que queremos predecir: *competencias blandas*.  \n",
    "\n",
    "2. **División en entrenamiento y prueba:**  \n",
    "   Utilizamos `train_test_split` para separar el dataset:  \n",
    "   - **75%** de los datos para entrenamiento (`X_train`, `y_train`).  \n",
    "   - **25%** para prueba (`X_test`, `y_test`).  \n",
    "\n"
   ]
  },
  {
   "cell_type": "code",
   "execution_count": null,
   "id": "0b7af55a",
   "metadata": {},
   "outputs": [],
   "source": [
    "# Definir X (variables predictoras) y y (variable objetivo)\n",
    "X = df_encoded.drop(\"Competencias blandas\", axis=1)   # Todas las variables excepto la target\n",
    "y = df_encoded[\"Competencias blandas\"]                # Variable a predecir\n",
    "\n",
    "# Dividir en conjunto de entrenamiento y prueba\n",
    "X_train, X_test, y_train, y_test = train_test_split(\n",
    "    X, y,\n",
    "    test_size=0.25,        # 25% para test, 75% para entrenamiento\n",
    "    random_state=42,       # Semilla para reproducibilidad\n",
    ")\n",
    "\n",
    "# Verificamos tamaños\n",
    "print(\"Tamaño de X_train:\", X_train.shape)\n",
    "print(\"Tamaño de X_test:\", X_test.shape)\n",
    "print(\"Tamaño de y_train:\", y_train.shape)\n",
    "print(\"Tamaño de y_test:\", y_test.shape)"
   ]
  },
  {
   "cell_type": "markdown",
   "id": "f61ad878",
   "metadata": {},
   "source": [
    "## Entrenamiento y predicciones\n",
    "\n",
    "Dividimos los datos en entrenamiento y prueba, entrenamos un modelo de **Regresión Lineal** y generamos predicciones sobre el conjunto de prueba.  \n",
    "Finalmente, creamos un DataFrame para comparar los valores reales de *competencias blandas* con los valores predichos.\n"
   ]
  },
  {
   "cell_type": "code",
   "execution_count": null,
   "id": "3d905788",
   "metadata": {},
   "outputs": [],
   "source": [
    "#  Dividir en train y test\n",
    "X_train, X_test, y_train, y_test = train_test_split(\n",
    "    X, y, test_size=0.25, random_state=42\n",
    ")\n",
    "\n",
    "# 🏗️ Construir modelo de regresión lineal\n",
    "lin_reg = LinearRegression()\n",
    "lin_reg.fit(X_train, y_train)\n",
    "\n",
    "# 🔮 Predicciones\n",
    "y_pred = lin_reg.predict(X_test)\n",
    "\n",
    "results_df = pd.DataFrame({\n",
    "    \"Valor real (y_test)\": y_test.values,\n",
    "    \"Predicción (y_pred)\": y_pred\n",
    "}).reset_index(drop=True)\n",
    "\n",
    "results_df.head()\n"
   ]
  },
  {
   "cell_type": "markdown",
   "id": "bfec25c5",
   "metadata": {},
   "source": [
    "##  Evaluación del modelo\n",
    "\n",
    "Calculamos métricas de error (**MAE, MSE, RMSE**) y el coeficiente de determinación (**R²**) para medir la precisión y capacidad explicativa del modelo de regresión.\n"
   ]
  },
  {
   "cell_type": "code",
   "execution_count": null,
   "id": "e203f078",
   "metadata": {},
   "outputs": [],
   "source": [
    "# 📊 Evaluación del modelo\n",
    "print(\"MAE:\", mean_absolute_error(y_test, y_pred))\n",
    "print(\"MSE:\", mean_squared_error(y_test, y_pred))\n",
    "print(\"RMSE:\", np.sqrt(mean_squared_error(y_test, y_pred)))\n",
    "print(\"R²:\", r2_score(y_test, y_pred))"
   ]
  }
 ],
 "metadata": {
  "kernelspec": {
   "display_name": "base",
   "language": "python",
   "name": "python3"
  },
  "language_info": {
   "codemirror_mode": {
    "name": "ipython",
    "version": 3
   },
   "file_extension": ".py",
   "mimetype": "text/x-python",
   "name": "python",
   "nbconvert_exporter": "python",
   "pygments_lexer": "ipython3",
   "version": "3.12.7"
  }
 },
 "nbformat": 4,
 "nbformat_minor": 5
}

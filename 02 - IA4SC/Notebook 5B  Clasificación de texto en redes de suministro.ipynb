{
 "cells": [
  {
   "cell_type": "markdown",
   "id": "7243f9fe",
   "metadata": {},
   "source": [
    "#  IA para Redes de Suministro \n",
    "\n",
    "👤 **Autor:** John Leonardo Vargas Mesa  \n",
    "🔗 [LinkedIn](https://www.linkedin.com/in/leonardovargas/) | [GitHub](https://github.com/LeStark)  \n",
    "\n",
    "## 📂 Repositorio en GitHub  \n",
    "- 📓 **Notebooks:** [Acceder aquí](https://github.com/LeStark/Cursos/tree/main/02%20-%20IA4SC)  \n",
    "- 📑 **Data sets:** [Acceder aquí](https://github.com/LeStark/Cursos/tree/main/00%20-%20Data/02%20-%20SC)  \n",
    "---"
   ]
  },
  {
   "cell_type": "markdown",
   "id": "d4a66707",
   "metadata": {},
   "source": [
    "# Notebook 05B - Clasificación de texto basado en ML con vectorización: aplicación en redes de suministro"
   ]
  },
  {
   "cell_type": "code",
   "execution_count": 1,
   "id": "ed5df156",
   "metadata": {},
   "outputs": [
    {
     "name": "stderr",
     "output_type": "stream",
     "text": [
      "[nltk_data] Downloading package stopwords to\n",
      "[nltk_data]     C:\\Users\\jlvar\\AppData\\Roaming\\nltk_data...\n",
      "[nltk_data]   Package stopwords is already up-to-date!\n"
     ]
    }
   ],
   "source": [
    "#  Manipulación de datos\n",
    "import pandas as pd\n",
    "\n",
    "#  Machine Learning\n",
    "from sklearn.feature_extraction.text import TfidfVectorizer\n",
    "from sklearn.preprocessing import FunctionTransformer\n",
    "from sklearn.naive_bayes import MultinomialNB\n",
    "from sklearn.pipeline import Pipeline\n",
    "from sklearn.model_selection import train_test_split\n",
    "from sklearn.metrics import classification_report\n",
    "\n",
    "#  Procesamiento de texto (NLP)\n",
    "import re\n",
    "import nltk\n",
    "from nltk.corpus import stopwords\n",
    "from unidecode import unidecode\n",
    "\n",
    "#  Visualización\n",
    "import matplotlib.pyplot as plt\n",
    "import seaborn as sns\n",
    "\n",
    "#  Configuración inicial\n",
    "nltk.download('stopwords')\n",
    "stop_words = set(stopwords.words(\"spanish\"))\n"
   ]
  },
  {
   "cell_type": "markdown",
   "id": "549bc86d",
   "metadata": {},
   "source": [
    "# Dataset: Reportes Logísticos (NLP)\n",
    "\n",
    "Este conjunto de datos contiene **200 registros simulados de reportes logísticos**, creados con el objetivo de entrenar y probar modelos de **procesamiento de lenguaje natural (NLP)** aplicados a la **gestión de la cadena de suministro**.\n",
    "\n",
    "## Descripción general\n",
    "\n",
    "Cada fila representa un reporte escrito en lenguaje natural por un empleado o sistema de seguimiento logístico, describiendo incidentes ocurridos durante el proceso de transporte, entrega o gestión de pedidos.\n",
    "\n",
    "El dataset está compuesto por dos columnas principales:\n",
    "\n",
    "| Columna | Tipo | Descripción |\n",
    "|----------|------|-------------|\n",
    "| `reporte` | Texto | Descripción libre del incidente logístico (por ejemplo, “El camión se retrasó por tráfico en la vía”). |\n",
    "| `categoria` | Categórica | Tipo de incidente, utilizada como etiqueta de clasificación. |\n",
    "\n",
    "## Categorías incluidas\n",
    "\n",
    "El conjunto de datos contempla **cuatro tipos de incidentes** frecuentes en logística:\n",
    "\n",
    "- **Retraso:** demoras en entrega, despacho o transporte.  \n",
    "- **Daño:** deterioro o pérdida parcial de la carga durante el proceso logístico.  \n",
    "- **Falla de proveedor:** incumplimientos o errores atribuibles al proveedor.  \n",
    "- **Otro:** incidencias administrativas o no clasificables (errores en documentos, sistemas, aduanas, etc.).\n",
    "\n",
    "## Propósito del dataset\n",
    "\n",
    "Este dataset fue diseñado para ejercicios de:\n",
    "- **Clasificación automática de texto** (detección del tipo de incidente).  \n",
    "- **Preprocesamiento de lenguaje natural** (limpieza, tokenización, eliminación de stopwords).  \n",
    "- **Entrenamiento de modelos supervisados** en entornos de supply chain analytics.  \n",
    "\n",
    "## ⚠️ Notas\n",
    "- Los textos son **sintéticos**, generados de manera controlada para fines educativos y de experimentación.  \n",
    "- No contienen datos sensibles ni información real de empresas o personas.  \n",
    "- La distribución de categorías es aproximadamente equilibrada, lo cual facilita la comparación de modelos.\n",
    "\n"
   ]
  },
  {
   "cell_type": "code",
   "execution_count": 3,
   "id": "3346126c",
   "metadata": {},
   "outputs": [
    {
     "data": {
      "text/html": [
       "<div>\n",
       "<style scoped>\n",
       "    .dataframe tbody tr th:only-of-type {\n",
       "        vertical-align: middle;\n",
       "    }\n",
       "\n",
       "    .dataframe tbody tr th {\n",
       "        vertical-align: top;\n",
       "    }\n",
       "\n",
       "    .dataframe thead th {\n",
       "        text-align: right;\n",
       "    }\n",
       "</style>\n",
       "<table border=\"1\" class=\"dataframe\">\n",
       "  <thead>\n",
       "    <tr style=\"text-align: right;\">\n",
       "      <th></th>\n",
       "      <th>reporte</th>\n",
       "      <th>categoria</th>\n",
       "    </tr>\n",
       "  </thead>\n",
       "  <tbody>\n",
       "    <tr>\n",
       "      <th>0</th>\n",
       "      <td>El proveedor no respondió a tiempo</td>\n",
       "      <td>Falla de proveedor</td>\n",
       "    </tr>\n",
       "    <tr>\n",
       "      <th>1</th>\n",
       "      <td>Cambio de última hora en la ruta logística</td>\n",
       "      <td>Otro</td>\n",
       "    </tr>\n",
       "    <tr>\n",
       "      <th>2</th>\n",
       "      <td>El pedido llegó tarde por fallas mecánicas</td>\n",
       "      <td>Retraso</td>\n",
       "    </tr>\n",
       "    <tr>\n",
       "      <th>3</th>\n",
       "      <td>Falta información en la factura</td>\n",
       "      <td>Otro</td>\n",
       "    </tr>\n",
       "    <tr>\n",
       "      <th>4</th>\n",
       "      <td>Parte del envío se perdió por demoras por fest...</td>\n",
       "      <td>Daño</td>\n",
       "    </tr>\n",
       "    <tr>\n",
       "      <th>5</th>\n",
       "      <td>Se rompieron varias cajas durante el transporte</td>\n",
       "      <td>Daño</td>\n",
       "    </tr>\n",
       "    <tr>\n",
       "      <th>6</th>\n",
       "      <td>El proveedor no respondió a tiempo</td>\n",
       "      <td>Falla de proveedor</td>\n",
       "    </tr>\n",
       "    <tr>\n",
       "      <th>7</th>\n",
       "      <td>El proveedor no respondió a tiempo</td>\n",
       "      <td>Falla de proveedor</td>\n",
       "    </tr>\n",
       "    <tr>\n",
       "      <th>8</th>\n",
       "      <td>Cambio de última hora en la ruta logística</td>\n",
       "      <td>Otro</td>\n",
       "    </tr>\n",
       "    <tr>\n",
       "      <th>9</th>\n",
       "      <td>Retraso en despacho por problemas de coordinación</td>\n",
       "      <td>Retraso</td>\n",
       "    </tr>\n",
       "    <tr>\n",
       "      <th>10</th>\n",
       "      <td>El camión se retrasó por fallas mecánicas</td>\n",
       "      <td>Retraso</td>\n",
       "    </tr>\n",
       "    <tr>\n",
       "      <th>11</th>\n",
       "      <td>El proveedor no respondió a tiempo</td>\n",
       "      <td>Falla de proveedor</td>\n",
       "    </tr>\n",
       "    <tr>\n",
       "      <th>12</th>\n",
       "      <td>Demora en la entrega debido a demoras por fest...</td>\n",
       "      <td>Retraso</td>\n",
       "    </tr>\n",
       "    <tr>\n",
       "      <th>13</th>\n",
       "      <td>Cambio de última hora en la ruta logística</td>\n",
       "      <td>Otro</td>\n",
       "    </tr>\n",
       "    <tr>\n",
       "      <th>14</th>\n",
       "      <td>Problemas con la documentación de aduana</td>\n",
       "      <td>Otro</td>\n",
       "    </tr>\n",
       "    <tr>\n",
       "      <th>15</th>\n",
       "      <td>Demora en la entrega debido a error humano</td>\n",
       "      <td>Retraso</td>\n",
       "    </tr>\n",
       "    <tr>\n",
       "      <th>16</th>\n",
       "      <td>El camión se retrasó por error humano</td>\n",
       "      <td>Retraso</td>\n",
       "    </tr>\n",
       "    <tr>\n",
       "      <th>17</th>\n",
       "      <td>Parte del envío se perdió por problemas de trá...</td>\n",
       "      <td>Daño</td>\n",
       "    </tr>\n",
       "    <tr>\n",
       "      <th>18</th>\n",
       "      <td>Producto deteriorado por fallas mecánicas</td>\n",
       "      <td>Daño</td>\n",
       "    </tr>\n",
       "    <tr>\n",
       "      <th>19</th>\n",
       "      <td>El cargamento llegó dañado por congestión en p...</td>\n",
       "      <td>Daño</td>\n",
       "    </tr>\n",
       "  </tbody>\n",
       "</table>\n",
       "</div>"
      ],
      "text/plain": [
       "                                              reporte           categoria\n",
       "0                  El proveedor no respondió a tiempo  Falla de proveedor\n",
       "1          Cambio de última hora en la ruta logística                Otro\n",
       "2          El pedido llegó tarde por fallas mecánicas             Retraso\n",
       "3                     Falta información en la factura                Otro\n",
       "4   Parte del envío se perdió por demoras por fest...                Daño\n",
       "5     Se rompieron varias cajas durante el transporte                Daño\n",
       "6                  El proveedor no respondió a tiempo  Falla de proveedor\n",
       "7                  El proveedor no respondió a tiempo  Falla de proveedor\n",
       "8          Cambio de última hora en la ruta logística                Otro\n",
       "9   Retraso en despacho por problemas de coordinación             Retraso\n",
       "10          El camión se retrasó por fallas mecánicas             Retraso\n",
       "11                 El proveedor no respondió a tiempo  Falla de proveedor\n",
       "12  Demora en la entrega debido a demoras por fest...             Retraso\n",
       "13         Cambio de última hora en la ruta logística                Otro\n",
       "14           Problemas con la documentación de aduana                Otro\n",
       "15         Demora en la entrega debido a error humano             Retraso\n",
       "16              El camión se retrasó por error humano             Retraso\n",
       "17  Parte del envío se perdió por problemas de trá...                Daño\n",
       "18          Producto deteriorado por fallas mecánicas                Daño\n",
       "19  El cargamento llegó dañado por congestión en p...                Daño"
      ]
     },
     "execution_count": 3,
     "metadata": {},
     "output_type": "execute_result"
    }
   ],
   "source": [
    "# --- Cargar dataset desde una URL pública ---\n",
    "\n",
    "# URL del archivo CSV almacenado en GitHub (repositorio LeStark/Cursos)\n",
    "# Este dataset contiene 200 reportes logísticos simulados con su respectiva categoría.\n",
    "url = \"https://raw.githubusercontent.com/LeStark/Cursos/refs/heads/main/00%20-%20Data/03%20-%20NLP/reportes_logisticos_200.csv\"\n",
    "\n",
    "# Cargar el archivo CSV directamente desde la URL usando pandas\n",
    "data = pd.read_csv(url)\n",
    "\n",
    "# Mostrar las primeras filas del dataset para verificar su estructura\n",
    "# Columnas esperadas: \n",
    "#   - 'reporte': descripción en texto libre del incidente logístico\n",
    "#   - 'categoria': tipo de incidente (Retraso, Daño, Falla de proveedor, Otro)\n",
    "data.head(20)\n"
   ]
  },
  {
   "cell_type": "code",
   "execution_count": 4,
   "id": "634d7e61",
   "metadata": {},
   "outputs": [
    {
     "name": "stderr",
     "output_type": "stream",
     "text": [
      "C:\\Users\\jlvar\\AppData\\Local\\Temp\\ipykernel_34616\\3407092804.py:10: FutureWarning: \n",
      "\n",
      "Passing `palette` without assigning `hue` is deprecated and will be removed in v0.14.0. Assign the `x` variable to `hue` and set `legend=False` for the same effect.\n",
      "\n",
      "  ax = sns.barplot(x=\"categoria\", y=\"cantidad\", data=conteo, palette=\"crest\")\n"
     ]
    },
    {
     "data": {
      "image/png": "[encoded data removed]",
      "text/plain": [
       "<Figure size 800x500 with 1 Axes>"
      ]
     },
     "metadata": {},
     "output_type": "display_data"
    }
   ],
   "source": [
    "# Contar registros por categoría\n",
    "conteo = data[\"categoria\"].value_counts().reset_index()\n",
    "conteo.columns = [\"categoria\", \"cantidad\"]\n",
    "\n",
    "# Estilo visual\n",
    "sns.set(style=\"whitegrid\")\n",
    "\n",
    "# Crear gráfica\n",
    "plt.figure(figsize=(8,5))\n",
    "ax = sns.barplot(x=\"categoria\", y=\"cantidad\", data=conteo, palette=\"crest\")\n",
    "\n",
    "# Personalizar\n",
    "plt.title(\"Distribución de reportes por categoría\", fontsize=14)\n",
    "plt.xlabel(\"Categoría\", fontsize=12)\n",
    "plt.ylabel(\"Cantidad de reportes\", fontsize=12)\n",
    "plt.xticks(rotation=15)\n",
    "plt.bar_label(ax.containers[0], fmt=\"%d\", padding=3)\n",
    "\n",
    "# Mostrar\n",
    "plt.tight_layout()\n",
    "plt.show()"
   ]
  },
  {
   "cell_type": "markdown",
   "id": "68860fc7",
   "metadata": {},
   "source": [
    "### Función `limpiar_texto()`\n",
    "\n",
    "Esta función realiza el **preprocesamiento básico del texto** antes de aplicar modelos de NLP.  \n",
    "Su objetivo es estandarizar los reportes logísticos eliminando ruido y dejando solo las palabras relevantes.\n",
    "\n",
    "**Pasos que realiza:**\n",
    "1. Convierte todo el texto a minúsculas.  \n",
    "2. Elimina tildes y caracteres especiales.  \n",
    "3. Quita signos de puntuación y números.  \n",
    "4. Elimina *stopwords* en español (palabras sin valor semántico).  \n",
    "5. Une nuevamente los tokens limpios en una cadena lista para vectorización.\n"
   ]
  },
  {
   "cell_type": "code",
   "execution_count": 5,
   "id": "2707136b",
   "metadata": {},
   "outputs": [],
   "source": [
    "def limpiar_texto(texto):\n",
    "    # 1. Minusculas\n",
    "    texto = texto.lower()\n",
    "    # 2. Eliminar tildes\n",
    "    texto = unidecode(texto)\n",
    "    # 3. Eliminar signos de puntuacion y numeros\n",
    "    texto = re.sub(r'[^a-zñáéíóú\\s]', '', texto)\n",
    "    # 4. Eliminar stopwords\n",
    "    tokens = [palabra for palabra in texto.split() if palabra not in stop_words]\n",
    "    # 5. Reunir texto limpio\n",
    "    return \" \".join(tokens)\n"
   ]
  },
  {
   "cell_type": "markdown",
   "id": "123a127f",
   "metadata": {},
   "source": [
    "### `FunctionTransformer`: integración de funciones personalizadas en el pipeline\n",
    "\n",
    "El objeto `FunctionTransformer` de **scikit-learn** permite incluir **funciones personalizadas** dentro de un `Pipeline`, haciendo que el preprocesamiento forme parte del flujo completo de entrenamiento y predicción del modelo.\n",
    "\n",
    "En este caso, se utiliza para aplicar la función `limpiar_texto()` sobre cada texto del dataset, garantizando que la limpieza ocurra de manera automática cada vez que el pipeline procese nuevos datos.\n",
    "\n",
    "#### ¿Cómo funciona?\n",
    "\n",
    "- `FunctionTransformer` actúa como un **conector entre funciones de Python y scikit-learn**.  \n",
    "- Recibe una función que transforma los datos antes de pasarlos al siguiente paso del pipeline.  \n",
    "- El parámetro `validate=False` permite procesar listas o series de texto directamente, sin convertirlas a arreglos NumPy.\n"
   ]
  },
  {
   "cell_type": "code",
   "execution_count": 7,
   "id": "11025f93",
   "metadata": {},
   "outputs": [],
   "source": [
    "# Definir una función explícita (en lugar de lambda)\n",
    "def aplicar_limpieza(textos):\n",
    "    return [limpiar_texto(t) for t in textos]\n",
    "\n",
    "# Crear el transformador con la función nombrada\n",
    "cleaner = FunctionTransformer(aplicar_limpieza, validate=False)"
   ]
  },
  {
   "cell_type": "markdown",
   "id": "e973ac94",
   "metadata": {},
   "source": [
    "###  `Pipeline`: encadenar etapas del proceso de NLP\n",
    "\n",
    "Un **`Pipeline`** en *scikit-learn* permite **encadenar varios pasos de procesamiento y modelado** en una sola estructura coherente.  \n",
    "Su propósito es simplificar el flujo de trabajo de *Machine Learning*, asegurando que todas las transformaciones y el entrenamiento del modelo se realicen en el **orden correcto** y de forma reproducible.\n",
    "\n",
    "####  ¿Cómo funciona un pipeline?\n",
    "\n",
    "Un pipeline ejecuta secuencialmente una serie de pasos definidos como tuplas `(nombre, objeto)`.  \n",
    "Cada paso recibe la salida del anterior, y al final se obtiene un modelo completo que puede entrenarse (`fit`) y usarse para predecir (`predict`).\n",
    "\n",
    "En este caso, el pipeline de NLP tiene tres etapas:\n",
    "\n",
    "```python\n",
    "modelo_nlp = Pipeline([\n",
    "    (\"cleaner\", cleaner),            # 1️⃣ Limpieza de texto (FunctionTransformer)\n",
    "    (\"tfidf\", TfidfVectorizer()),    # 2️⃣ Conversión de texto a vectores numéricos (TF-IDF)\n",
    "    (\"clf\", MultinomialNB())         # 3️⃣ Clasificación con Naive Bayes\n",
    "])\n"
   ]
  },
  {
   "cell_type": "code",
   "execution_count": 8,
   "id": "cf9fe217",
   "metadata": {},
   "outputs": [],
   "source": [
    "# Crear el pipeline completo\n",
    "modelo_nlp = Pipeline([\n",
    "    (\"cleaner\", cleaner),\n",
    "    (\"tfidf\", TfidfVectorizer()),\n",
    "    (\"clf\", MultinomialNB())\n",
    "])"
   ]
  },
  {
   "cell_type": "markdown",
   "id": "85f86a3b",
   "metadata": {},
   "source": [
    "Se divide el dataset en conjuntos de **entrenamiento (70%)** y **prueba (30%)** para evaluar el rendimiento del modelo de NLP de forma controlada.\n"
   ]
  },
  {
   "cell_type": "code",
   "execution_count": 9,
   "id": "94422e90",
   "metadata": {},
   "outputs": [],
   "source": [
    "# Entrenamiento y prueba\n",
    "X_train, X_test, y_train, y_test = train_test_split(\n",
    "    data[\"reporte\"], data[\"categoria\"], test_size=0.3, random_state=42\n",
    ")"
   ]
  },
  {
   "cell_type": "markdown",
   "id": "d5297ec4",
   "metadata": {},
   "source": [
    "Se entrena el pipeline completo con los datos de entrenamiento y se evalúa su desempeño en el conjunto de prueba mediante métricas de clasificación. "
   ]
  },
  {
   "cell_type": "code",
   "execution_count": 10,
   "id": "52b0fdf1",
   "metadata": {},
   "outputs": [
    {
     "name": "stdout",
     "output_type": "stream",
     "text": [
      "                    precision    recall  f1-score   support\n",
      "\n",
      "              Daño       1.00      1.00      1.00        17\n",
      "Falla de proveedor       1.00      1.00      1.00        11\n",
      "              Otro       1.00      1.00      1.00        17\n",
      "           Retraso       1.00      1.00      1.00        15\n",
      "\n",
      "          accuracy                           1.00        60\n",
      "         macro avg       1.00      1.00      1.00        60\n",
      "      weighted avg       1.00      1.00      1.00        60\n",
      "\n"
     ]
    }
   ],
   "source": [
    "# Entrenar\n",
    "modelo_nlp.fit(X_train, y_train)\n",
    "\n",
    "# Evaluar\n",
    "y_pred = modelo_nlp.predict(X_test)\n",
    "print(classification_report(y_test, y_pred))"
   ]
  },
  {
   "cell_type": "markdown",
   "id": "07173978",
   "metadata": {},
   "source": [
    "Se prueban nuevos reportes logísticos para que el modelo prediga automáticamente la categoría correspondiente a cada caso. \n"
   ]
  },
  {
   "cell_type": "code",
   "execution_count": 11,
   "id": "8a0184fd",
   "metadata": {},
   "outputs": [
    {
     "name": "stdout",
     "output_type": "stream",
     "text": [
      "📝 El pedido llegó con varias cajas dañadas → 📦 Daño\n",
      "📝 El proveedor no cumplió con el envío → 📦 Falla de proveedor\n",
      "📝 Demora por congestión en el puerto → 📦 Retraso\n",
      "📝 Error en la documentación de transporte → 📦 Otro\n",
      "📝 El camion de reparto se quedo sin gasolina y no pudo llegar a su destino → 📦 Retraso\n"
     ]
    }
   ],
   "source": [
    "nuevos = [\n",
    "    \"El pedido llegó con varias cajas dañadas\",\n",
    "    \"El proveedor no cumplió con el envío\",\n",
    "    \"Demora por congestión en el puerto\",\n",
    "    \"Error en la documentación de transporte\",\n",
    "    \"El camion de reparto se quedo sin gasolina y no pudo llegar a su destino\"\n",
    "]\n",
    "\n",
    "pred = modelo_nlp.predict(nuevos)\n",
    "for r, c in zip(nuevos, pred):\n",
    "    print(f\"📝 {r} → 📦 {c}\")"
   ]
  },
  {
   "cell_type": "markdown",
   "id": "0fce4012",
   "metadata": {},
   "source": [
    "Se guarda el pipeline completo (`modelo_nlp_pipeline.pkl`), que incluye tanto el modelo de **vectorización TF-IDF** como el modelo de **clasificación Naive Bayes** y el paso de **limpieza de texto**.  \n",
    "De esta forma, el flujo de preprocesamiento y predicción puede reutilizarse sin necesidad de volver a entrenar el modelo.\n"
   ]
  },
  {
   "cell_type": "code",
   "execution_count": 12,
   "id": "1aaefa0c",
   "metadata": {},
   "outputs": [
    {
     "name": "stdout",
     "output_type": "stream",
     "text": [
      "✅ Pipeline guardado correctamente en 'modelo_nlp_pipeline.pkl'\n"
     ]
    }
   ],
   "source": [
    "import joblib\n",
    "\n",
    "# Guardar el pipeline entrenado en un archivo .pkl\n",
    "joblib.dump(modelo_nlp, \"modelo_nlp_pipeline.pkl\")\n",
    "\n",
    "print(\"✅ Pipeline guardado correctamente en 'modelo_nlp_pipeline.pkl'\")\n"
   ]
  },
  {
   "cell_type": "code",
   "execution_count": 13,
   "id": "83bf6ccf",
   "metadata": {},
   "outputs": [],
   "source": [
    "# Cargar el pipeline entrenado desde el archivo\n",
    "modelo_cargado = joblib.load(\"modelo_nlp_pipeline.pkl\")"
   ]
  },
  {
   "cell_type": "code",
   "execution_count": 14,
   "id": "f7a7d336",
   "metadata": {},
   "outputs": [
    {
     "name": "stdout",
     "output_type": "stream",
     "text": [
      "📝 Reporte: Durante el transporte se dañaron los porductos cargados\n",
      "📦 Categoría predicha: Daño\n"
     ]
    }
   ],
   "source": [
    "# Pedir al usuario un texto para clasificar\n",
    "texto_usuario = input(\"✍️ Ingresa un reporte logístico: \")\n",
    "\n",
    "# Realizar la predicción\n",
    "prediccion = modelo_cargado.predict([texto_usuario])[0]\n",
    "\n",
    "# Mostrar el resultado\n",
    "print(f\"📝 Reporte: {texto_usuario}\")\n",
    "print(f\"📦 Categoría predicha: {prediccion}\")\n"
   ]
  }
 ],
 "metadata": {
  "kernelspec": {
   "display_name": "base",
   "language": "python",
   "name": "python3"
  },
  "language_info": {
   "codemirror_mode": {
    "name": "ipython",
    "version": 3
   },
   "file_extension": ".py",
   "mimetype": "text/x-python",
   "name": "python",
   "nbconvert_exporter": "python",
   "pygments_lexer": "ipython3",
   "version": "3.12.7"
  }
 },
 "nbformat": 4,
 "nbformat_minor": 5
}

{
 "cells": [
  {
   "cell_type": "markdown",
   "id": "538ead2e",
   "metadata": {},
   "source": [
    "#  IA para Redes de Suministro \n",
    "\n",
    "👤 **Autor:** John Leonardo Vargas Mesa  \n",
    "🔗 [LinkedIn](https://www.linkedin.com/in/leonardovargas/) | [GitHub](https://github.com/LeStark)  \n",
    "\n",
    "## 📂 Repositorio en GitHub  \n",
    "- 📓 **Notebooks:** [Acceder aquí](https://github.com/LeStark/Cursos/tree/main/An%C3%A1lisis%20predictivo%20para%20toma%20de%20decisiones%20RRHH)  \n",
    "- 📑 **Data sets:** [Acceder aquí](https://github.com/LeStark/Cursos/tree/main/Data/RRHH)  \n",
    "---"
   ]
  },
  {
   "cell_type": "markdown",
   "id": "48880b31",
   "metadata": {},
   "source": [
    "# 🧮 Red Neuronal que Aprende las 4 Operaciones Básicas\n",
    "En este notebook vamos a entrenar una red neuronal para que aprenda a realizar:\n",
    "- Suma\n",
    "- Resta\n",
    "- Multiplicación\n",
    "- División\n",
    "\n"
   ]
  },
  {
   "cell_type": "code",
   "execution_count": null,
   "id": "71e69a55",
   "metadata": {},
   "outputs": [],
   "source": [
    "\n"
   ]
  }
 ],
 "metadata": {
  "kernelspec": {
   "display_name": "base",
   "language": "python",
   "name": "python3"
  },
  "language_info": {
   "codemirror_mode": {
    "name": "ipython",
    "version": 3
   },
   "file_extension": ".py",
   "mimetype": "text/x-python",
   "name": "python",
   "nbconvert_exporter": "python",
   "pygments_lexer": "ipython3",
   "version": "3.12.7"
  }
 },
 "nbformat": 4,
 "nbformat_minor": 5
}

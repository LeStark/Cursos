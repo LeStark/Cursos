{
 "cells": [
  {
   "cell_type": "code",
   "execution_count": null,
   "id": "6fa8567d",
   "metadata": {},
   "outputs": [],
   "source": []
  },
  {
   "cell_type": "code",
   "execution_count": null,
   "id": "6bacf948",
   "metadata": {},
   "outputs": [],
   "source": [
    "from ultralytics import YOLO\n",
    "\n",
    "# Cargar modelo preentrenado en COCO (80 clases)\n",
    "model = YOLO(\"yolov8n.pt\")\n",
    "\n",
    "# Hacer inferencia\n",
    "results = model(\"imagen.jpg\")\n",
    "\n",
    "# Mostrar predicciones\n",
    "results.show()\n"
   ]
  }
 ],
 "metadata": {
  "language_info": {
   "name": "python"
  }
 },
 "nbformat": 4,
 "nbformat_minor": 5
}

{
 "cells": [
  {
   "cell_type": "markdown",
   "id": "e817a0d3",
   "metadata": {},
   "source": [
    "#  IA para Redes de Suministro \n",
    "\n",
    "👤 **Autor:** John Leonardo Vargas Mesa  \n",
    "🔗 [LinkedIn](https://www.linkedin.com/in/leonardovargas/) | [GitHub](https://github.com/LeStark)  \n",
    "\n",
    "## 📂 Repositorio en GitHub  \n",
    "- 📓 **Notebooks:** [Acceder aquí](https://github.com/LeStark/Cursos/tree/main/02%20-%20IA4SC)  \n",
    "- 📑 **Data sets:** [Acceder aquí](https://github.com/LeStark/Cursos/tree/main/00%20-%20Data/02%20-%20SC)  \n",
    "---"
   ]
  },
  {
   "cell_type": "markdown",
   "id": "e7f3fac3",
   "metadata": {},
   "source": [
    "# 📘 Notebook 5 – Introducción a Natural Lenguage Processing para redes de suministro"
   ]
  },
  {
   "cell_type": "code",
   "execution_count": null,
   "id": "96f69b7d",
   "metadata": {},
   "outputs": [],
   "source": [
    "# Instala las bibliotecas necesarias si no las tienes instaladas\n",
    "!pip install pandas scikit-learn nltk spacy matplotlib seaborn imblearn"
   ]
  },
  {
   "cell_type": "code",
   "execution_count": null,
   "id": "1d1e0373",
   "metadata": {},
   "outputs": [],
   "source": [
    "import pandas as pd\n",
    "import nltk\n",
    "from nltk.corpus import stopwords\n",
    "from nltk.tokenize import word_tokenize\n",
    "from nltk.stem import WordNetLemmatizer\n",
    "from sklearn.model_selection import train_test_split\n",
    "from sklearn.feature_extraction.text import TfidfVectorizer\n",
    "from sklearn.linear_model import LogisticRegression\n",
    "from sklearn.metrics import classification_report, confusion_matrix\n",
    "import matplotlib.pyplot as plt\n",
    "import seaborn as sns\n",
    "from imblearn.over_sampling import RandomOverSampler\n",
    "\n",
    "\n",
    "# Descargar recursos necesarios (solo la primera vez)\n",
    "nltk.download('punkt')\n",
    "nltk.download('punkt_tab')\n",
    "nltk.download('stopwords')\n",
    "nltk.download('wordnet')\n",
    "nltk.download('omw-1.4')"
   ]
  },
  {
   "cell_type": "code",
   "execution_count": null,
   "id": "6822edf4",
   "metadata": {},
   "outputs": [],
   "source": [
    "url = \n",
    "df = pd.read_csv(\"twitter.csv\")\n",
    "df.head(10)"
   ]
  }
 ],
 "metadata": {
  "kernelspec": {
   "display_name": "base",
   "language": "python",
   "name": "python3"
  },
  "language_info": {
   "name": "python",
   "version": "3.12.7"
  }
 },
 "nbformat": 4,
 "nbformat_minor": 5
}

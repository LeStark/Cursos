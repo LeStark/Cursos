{
 "cells": [
  {
   "cell_type": "markdown",
   "id": "634a560e",
   "metadata": {},
   "source": [
    "## ***DIPLOMADO EN CIENCIA DE DATOS APLICADOS AL DESARROLLO INTEGRAL DEL TALENTO HUMANOX***  \n",
    "\n",
    "### ***M4: Análisis Predictivo para la Toma de Decisiones Estratégicas en RRHH***  \n",
    "\n",
    "### ***<span style=\"color:#FF0000\">Universidad del Rosario</span>***\n",
    "\n",
    "---"
   ]
  },
  {
   "cell_type": "markdown",
   "id": "a55b1f79",
   "metadata": {},
   "source": [
    "# 📘 Notebook 3 – Comparación y Optimización de Modelos de Regresión\n",
    "\n",
    "En este notebook avanzaremos un paso más en el análisis predictivo aplicado a **Recursos Humanos**.  \n",
    "El objetivo principal será **comparar distintos modelos de regresión** para predecir una variable númerica y luego **mejorar el desempeño del modelo más prometedor**.\n",
    "\n",
    "## 🎯 Objetivos\n",
    "1. **Comparar múltiples algoritmos de regresión** (Lineal, Ridge, Lasso, Árboles de decisión, Random Forest, entre otros).  \n",
    "2. **Seleccionar el mejor modelo** con base en métricas de desempeño como MAE, RMSE y R².  \n",
    "3. **Optimizar el modelo elegido** mediante técnicas de ajuste de hiperparámetros (*GridSearchCV* o *RandomizedSearchCV*).  \n",
    "4. **Visualizar y analizar los resultados**, identificando patrones y oportunidades de mejora.  \n",
    "\n",
    "## 🛠️ Herramientas\n",
    "- **scikit-learn** → construcción y evaluación de modelos.  \n",
    "- **pandas / numpy** → manipulación de datos.  \n",
    "- **matplotlib / seaborn** → visualización de resultados.  \n",
    "\n",
    "➡️ Al finalizar este notebook, contaremos con un modelo optimizado y validado que servirá como punto de referencia sólido para la predicción de competencias blandas en el contexto de RRHH.\n"
   ]
  },
  {
   "cell_type": "code",
   "execution_count": null,
   "id": "b99cf3b9",
   "metadata": {},
   "outputs": [],
   "source": [
    "# Instalación de librerías necesarias\n",
    "# \n",
    "# En esta celda instalamos las principales librerías que usaremos a lo largo del notebook:\n",
    "# - pandas: para manipulación y análisis de datos.\n",
    "# - numpy: para operaciones numéricas y manejo de arreglos.\n",
    "# - matplotlib: para visualizaciones básicas.\n",
    "# - seaborn: para visualizaciones estadísticas más estilizadas.\n",
    "# - scikit-learn: para construir y evaluar modelos de machine learning.\n",
    "#\n",
    "# Esta celda solo necesita ejecutarse una vez (o cuando el entorno no tenga estas librerías instaladas).\n",
    "\n",
    "!pip install pandas numpy matplotlib seaborn scikit-learn"
   ]
  },
  {
   "cell_type": "code",
   "execution_count": null,
   "id": "90744b5e",
   "metadata": {},
   "outputs": [],
   "source": [
    "# Librerías necesarias\n",
    "\n",
    "# 🔹 Manipulación y análisis de datos\n",
    "import pandas as pd\n",
    "import numpy as np\n",
    "\n",
    "# 🔹 Visualización\n",
    "import matplotlib.pyplot as plt\n",
    "import seaborn as sns\n",
    "\n",
    "# 🔹 Preprocesamiento y modelado\n",
    "from sklearn.model_selection import train_test_split   # División en train y test\n",
    "from sklearn.linear_model import LinearRegression      # Modelo de regresión lineal\n",
    "\n",
    "# 🔹 Evaluación del modelo\n",
    "from sklearn.metrics import mean_absolute_error, mean_squared_error, r2_score\n",
    "from sklearn.preprocessing import LabelEncoder, StandardScaler"
   ]
  },
  {
   "cell_type": "code",
   "execution_count": null,
   "id": "b0dd027a",
   "metadata": {},
   "outputs": [],
   "source": [
    "# 📥 Cargar dataset\n",
    "url = \"https://raw.githubusercontent.com/LeStark/Cursos/refs/heads/main/Data/iris_human_resources.csv\"\n",
    "df = pd.read_csv(url, sep=\",\")\n",
    "df.info()  # Información del dataset\n",
    "df.head()  # Mostrar las primeras filas del dataset"
   ]
  }
 ],
 "metadata": {
  "kernelspec": {
   "display_name": "base",
   "language": "python",
   "name": "python3"
  },
  "language_info": {
   "codemirror_mode": {
    "name": "ipython",
    "version": 3
   },
   "file_extension": ".py",
   "mimetype": "text/x-python",
   "name": "python",
   "nbconvert_exporter": "python",
   "pygments_lexer": "ipython3",
   "version": "3.12.7"
  }
 },
 "nbformat": 4,
 "nbformat_minor": 5
}
